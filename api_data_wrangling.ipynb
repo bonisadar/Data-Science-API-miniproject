{
 "cells": [
  {
   "cell_type": "markdown",
   "metadata": {},
   "source": [
    "# API Data Wrangling with Open-Meteo\n",
    "\n",
    "In this exercise, we will:\n",
    "\n",
    "- Fetch historical weather data using the **Open-Meteo API**.\n",
    "- Parse and clean the data using **pandas**.\n",
    "- Perform exploratory data analysis.\n",
    "- Visualize weather trends."
   ]
  },
  {
   "cell_type": "code",
   "execution_count": 1,
   "metadata": {},
   "outputs": [],
   "source": [
    "# Install required packages if not already installed\n",
    "# !pip install requests pandas matplotlib --quiet"
   ]
  },
  {
   "cell_type": "code",
   "execution_count": 2,
   "metadata": {},
   "outputs": [],
   "source": [
    "# Import Libraries\n",
    "import requests\n",
    "import pandas as pd\n",
    "import matplotlib.pyplot as plt\n",
    "\n",
    "# Optional: Configure matplotlib for inline display in Jupyter\n",
    "%matplotlib inline"
   ]
  },
  {
   "cell_type": "markdown",
   "metadata": {},
   "source": [
    "## Understand the Open-Meteo API\n",
    "\n",
    "- **API Endpoint**: `https://archive-api.open-meteo.com/v1/archive`\n",
    "- **Parameters**:\n",
    "  - `latitude`: Latitude of the location.\n",
    "  - `longitude`: Longitude of the location.\n",
    "  - `start_date`: Start date of the data (YYYY-MM-DD).\n",
    "  - `end_date`: End date of the data (YYYY-MM-DD).\n",
    "  - `hourly`: Comma-separated list of variables (e.g., temperature, precipitation).\n",
    "  - `timezone`: Timezone of the data.\n",
    "\n",
    "**Documentation**: [Open-Meteo API Docs](https://open-meteo.com/en/docs)"
   ]
  },
  {
   "cell_type": "code",
   "execution_count": 3,
   "metadata": {},
   "outputs": [],
   "source": [
    "# Step 1: Set Up Parameters\n",
    "\n",
    "# Location coordinates for New York City\n",
    "latitude = 40.7128\n",
    "longitude = -74.0060\n",
    "\n",
    "# Date range\n",
    "start_date = '2023-01-01'\n",
    "end_date = '2023-01-07'  # One week of data\n",
    "\n",
    "# Variables to fetch\n",
    "hourly_variables = ['temperature_2m', 'relativehumidity_2m', 'precipitation']"
   ]
  },
  {
   "cell_type": "code",
   "execution_count": null,
   "metadata": {},
   "outputs": [],
   "source": [
    "# Step 2: Make the API Request\n",
    "\n",
    "base_url = 'https://archive-api.open-meteo.com/v1/archive'\n",
    "\n",
    "params = {\n",
    "    'latitude': latitude,\n",
    "    'longitude': longitude,\n",
    "    'start_date': start_date,\n",
    "    'end_date': end_date,\n",
    "    'hourly': ','.join(hourly_variables),\n",
    "    'timezone': 'America/New_York'\n",
    "}\n",
    "\n",
    "response = requests.get(base_url, params=params)"
   ]
  },
  {
   "cell_type": "code",
   "execution_count": null,
   "metadata": {},
   "outputs": [],
   "source": [
    "# Check if the request was successful\n",
    "\n",
    "if response.status_code == 200:\n",
    "    print('Data fetched successfully!')\n",
    "else:\n",
    "    print(f'Failed to fetch data. Status code: {response.status_code}')"
   ]
  },
  {
   "cell_type": "code",
   "execution_count": null,
   "metadata": {},
   "outputs": [],
   "source": [
    "# Step 3: Load Data into pandas DataFrame\n",
    "\n",
    "data = response.json()\n",
    "hourly_data = data['hourly']\n",
    "\n",
    "df = pd.DataFrame(hourly_data)\n",
    "df.head()"
   ]
  },
  {
   "cell_type": "code",
   "execution_count": null,
   "metadata": {},
   "outputs": [],
   "source": [
    "# Step 4: Data Cleaning\n",
    "\n",
    "# Convert 'time' column to datetime\n",
    "df['time'] = pd.to_datetime(df['time'])\n",
    "\n",
    "# Set 'time' as the index\n",
    "df.set_index('time', inplace=True)\n",
    "\n",
    "# Check for missing values\n",
    "df.isnull().sum()"
   ]
  },
  {
   "cell_type": "code",
   "execution_count": null,
   "metadata": {},
   "outputs": [],
   "source": [
    "# Handle missing values (if any)\n",
    "#df.fillna(method='ffill', inplace=True)  # Forward fill"
   ]
  },
  {
   "cell_type": "code",
   "execution_count": null,
   "metadata": {},
   "outputs": [],
   "source": [
    "# Handle missing values (if any)\n",
    "df.ffill(inplace=True)  # Forward fill"
   ]
  },
  {
   "cell_type": "code",
   "execution_count": null,
   "metadata": {},
   "outputs": [],
   "source": [
    "# Step 5: Exploratory Data Analysis\n",
    "\n",
    "# Summary Statistics\n",
    "df.describe()"
   ]
  },
  {
   "cell_type": "code",
   "execution_count": null,
   "metadata": {},
   "outputs": [],
   "source": [
    "# Plot Temperature Over Time\n",
    "\n",
    "plt.figure(figsize=(14, 6))\n",
    "plt.plot(df.index, df['temperature_2m'], label='Temperature (°C)')\n",
    "plt.title('Temperature Over Time in New York City')\n",
    "plt.xlabel('Date')\n",
    "plt.ylabel('Temperature (°C)')\n",
    "plt.legend()\n",
    "plt.show()"
   ]
  },
  {
   "cell_type": "code",
   "execution_count": null,
   "metadata": {},
   "outputs": [],
   "source": [
    "# Plot Relative Humidity Over Time\n",
    "\n",
    "plt.figure(figsize=(14, 6))\n",
    "plt.plot(df.index, df['relativehumidity_2m'], color='orange', label='Relative Humidity (%)')\n",
    "plt.title('Relative Humidity Over Time in New York City')\n",
    "plt.xlabel('Date')\n",
    "plt.ylabel('Relative Humidity (%)')\n",
    "plt.legend()\n",
    "plt.show()\n"
   ]
  },
  {
   "cell_type": "code",
   "execution_count": null,
   "metadata": {},
   "outputs": [],
   "source": [
    "# Plot Precipitation Over Time\n",
    "\n",
    "plt.figure(figsize=(14, 6))\n",
    "plt.bar(df.index, df['precipitation'], label='Precipitation (mm)')\n",
    "plt.title('Precipitation Over Time in New York City')\n",
    "plt.xlabel('Date')\n",
    "plt.ylabel('Precipitation (mm)')\n",
    "plt.legend()\n",
    "plt.show()\n"
   ]
  },
  {
   "cell_type": "code",
   "execution_count": null,
   "metadata": {},
   "outputs": [],
   "source": [
    "# Step 6: Correlation Analysis\n",
    "\n",
    "# Calculate correlation between temperature and humidity\n",
    "correlation = df['temperature_2m'].corr(df['relativehumidity_2m'])\n",
    "print(f'Correlation between Temperature and Relative Humidity: {correlation:.2f}')\n"
   ]
  },
  {
   "cell_type": "code",
   "execution_count": null,
   "metadata": {},
   "outputs": [],
   "source": [
    "# Scatter Plot of Temperature vs. Relative Humidity\n",
    "\n",
    "plt.figure(figsize=(8, 6))\n",
    "plt.scatter(df['temperature_2m'], df['relativehumidity_2m'], alpha=0.5)\n",
    "plt.title('Temperature vs. Relative Humidity')\n",
    "plt.xlabel('Temperature (°C)')\n",
    "plt.ylabel('Relative Humidity (%)')\n",
    "plt.show()\n"
   ]
  },
  {
   "cell_type": "code",
   "execution_count": null,
   "metadata": {},
   "outputs": [],
   "source": [
    "# Step 7: Resample Data to Daily Averages\n",
    "\n",
    "daily_avg = df.resample('D').mean()\n",
    "daily_avg.head()\n"
   ]
  },
  {
   "cell_type": "code",
   "execution_count": null,
   "metadata": {},
   "outputs": [],
   "source": [
    "# Plot Daily Average Temperature\n",
    "\n",
    "plt.figure(figsize=(10, 5))\n",
    "plt.plot(daily_avg.index, daily_avg['temperature_2m'], marker='o')\n",
    "plt.title('Daily Average Temperature in New York City')\n",
    "plt.xlabel('Date')\n",
    "plt.ylabel('Temperature (°C)')\n",
    "plt.grid(True)\n",
    "plt.show()\n"
   ]
  },
  {
   "cell_type": "code",
   "execution_count": null,
   "metadata": {},
   "outputs": [],
   "source": [
    "# Step 8: Compare with Another Location (Los Angeles)\n",
    "\n",
    "# Coordinates for Los Angeles\n",
    "latitude_la = 34.0522\n",
    "longitude_la = -118.2437\n",
    "\n",
    "params_la = {\n",
    "    'latitude': latitude_la,\n",
    "    'longitude': longitude_la,\n",
    "    'start_date': start_date,\n",
    "    'end_date': end_date,\n",
    "    'hourly': ','.join(hourly_variables),\n",
    "    'timezone': 'America/Los_Angeles'\n",
    "}\n",
    "\n",
    "response_la = requests.get(base_url, params=params_la)\n",
    "\n",
    "# Load and clean Los Angeles data\n",
    "data_la = response_la.json()\n",
    "hourly_data_la = data_la['hourly']\n",
    "df_la = pd.DataFrame(hourly_data_la)\n",
    "\n",
    "df_la['time'] = pd.to_datetime(df_la['time'])\n",
    "df_la.set_index('time', inplace=True)\n",
    "df_la.ffill(inplace=True)"
   ]
  },
  {
   "cell_type": "code",
   "execution_count": null,
   "metadata": {},
   "outputs": [],
   "source": [
    "# Resample Los Angeles Data to Daily Averages\n",
    "\n",
    "daily_avg_la = df_la.resample('D').mean()"
   ]
  },
  {
   "cell_type": "code",
   "execution_count": null,
   "metadata": {},
   "outputs": [],
   "source": [
    "# Combine DataFrames for Comparison\n",
    "\n",
    "combined_temp = pd.DataFrame({\n",
    "    'New York': daily_avg['temperature_2m'],\n",
    "    'Los Angeles': daily_avg_la['temperature_2m']\n",
    "})"
   ]
  },
  {
   "cell_type": "code",
   "execution_count": null,
   "metadata": {},
   "outputs": [],
   "source": [
    "# Plot Comparison of Daily Average Temperature\n",
    "\n",
    "combined_temp.plot(kind='bar', figsize=(10, 6))\n",
    "plt.title('Daily Average Temperature: New York vs Los Angeles')\n",
    "plt.xlabel('Date')\n",
    "plt.ylabel('Temperature (°C)')\n",
    "plt.xticks(rotation=45)\n",
    "plt.grid(True)\n",
    "plt.show()"
   ]
  },
  {
   "cell_type": "code",
   "execution_count": null,
   "metadata": {},
   "outputs": [],
   "source": [
    "# Step 9: Advanced Analysis - Temperature Difference\n",
    "\n",
    "# Calculate Temperature Difference\n",
    "combined_temp['Temp Difference'] = combined_temp['Los Angeles'] - combined_temp['New York']\n",
    "combined_temp"
   ]
  },
  {
   "cell_type": "code",
   "execution_count": null,
   "metadata": {},
   "outputs": [],
   "source": [
    "# Step 10: Save Data to CSV (Optional)\n",
    "\n",
    "# Save New York data\n",
    "df.to_csv('new_york_weather.csv')\n",
    "\n",
    "# Save Los Angeles data\n",
    "df_la.to_csv('los_angeles_weather.csv')"
   ]
  },
  {
   "cell_type": "markdown",
   "metadata": {},
   "source": [
    "## Conclusion\n",
    "\n",
    "In this exercise, we:\n",
    "\n",
    "- Accessed and retrieved data from the **Open-Meteo API**.\n",
    "- Cleaned and preprocessed JSON data using **pandas**.\n",
    "- Performed exploratory data analysis and visualization.\n",
    "- Compared weather patterns between **New York City** and **Los Angeles**.\n",
    "\n",
    "---\n",
    "\n",
    "**Next Steps**:\n",
    "\n",
    "- **Extend the Date Range**: Analyze seasonal trends by fetching data over several months.\n",
    "- **Fetch Additional Variables**: Include wind speed, atmospheric pressure, or other interesting variables.\n",
    "- **Forecasting**: Use statistical methods or machine learning models to forecast future weather patterns.\n",
    "- **Global Analysis**: Compare data from other global cities to gain broader insights.\n"
   ]
  },
  {
   "cell_type": "markdown",
   "metadata": {},
   "source": [
    "## Exercises for Students\n",
    "\n",
    "Now it's your turn! Below are some exercises to reinforce what you've learned. Try to complete them without looking at the solutions.\n",
    "\n",
    "### Exercise: Compare Rainfall Between London and Seattle\n",
    "\n",
    "- **Objective**: Compare the total weekly rainfall between London and Seattle over a full year.\n",
    "- **Tasks**:\n",
    "  1. **Fetch Data**: Retrieve hourly precipitation data for London and Seattle for the year 2022.\n",
    "     - **London Coordinates**: Latitude `51.5074`, Longitude `-0.1278`\n",
    "     - **Seattle Coordinates**: Latitude `47.6062`, Longitude `-122.3321`\n",
    "  2. **Data Cleaning**: Convert the time columns to datetime objects and set them as the index. Handle any missing values.\n",
    "  3. **Resample Data**: Resample the hourly data to weekly totals.\n",
    "  4. **Visualization**: Plot the weekly total precipitation for both cities on the same graph.\n",
    "  5. **Analysis**: Determine which city had more rainfall overall and identify any interesting patterns.\n",
    "\n",
    "**Note**: Remember to handle any API limitations, such as data availability or rate limits, and to be mindful of the size of the data you're requesting.\n",
    "\n",
    "### Tips:\n",
    "\n",
    "- **API Parameters**: Make sure to adjust the parameters like `latitude`, `longitude`, `start_date`, `end_date`, `hourly`, and `timezone` as needed.\n",
    "- **Error Handling**: Always check if your API requests are successful before proceeding.\n",
    "- **Data Storage**: Consider saving your DataFrames to CSV files for future analysis.\n",
    "- **Visualization**: Customize your plots with titles, labels, legends, and gridlines for better readability.\n",
    "\n",
    "Happy coding!\n"
   ]
  },
  {
   "cell_type": "code",
   "execution_count": null,
   "metadata": {},
   "outputs": [],
   "source": [
    "# Parameters of London\n",
    "latitude = 51.5074\n",
    "longitude = -0.1278\n",
    "\n",
    "start_date = '2022-01-01'\n",
    "end_date = '2022-12-31'\n",
    "\n",
    "hourly_variables = ['temperature_2m', 'relativehumidity_2m', 'precipitation']"
   ]
  },
  {
   "cell_type": "code",
   "execution_count": null,
   "metadata": {},
   "outputs": [],
   "source": [
    "base_url = 'https://archive-api.open-meteo.com/v1/archive'\n",
    "params = {\n",
    "        'latitude': latitude,\n",
    "        'longitude': longitude,\n",
    "        'start_date': start_date,\n",
    "        'end_date': end_date,\n",
    "        'hourly': ','.join(hourly_variables),\n",
    "        'timezone': 'America/Los_Angeles'\n",
    "}\n",
    "response = requests.get(base_url, params=params)"
   ]
  },
  {
   "cell_type": "code",
   "execution_count": null,
   "metadata": {},
   "outputs": [],
   "source": [
    "if response.status_code == 200:\n",
    "    print('Successful')\n",
    "else:\n",
    "    print('Something went wrong')"
   ]
  },
  {
   "cell_type": "code",
   "execution_count": null,
   "metadata": {},
   "outputs": [],
   "source": [
    "data = response.json()\n",
    "hourly_data = data['hourly']\n",
    "df_london = pd.DataFrame(hourly_data)\n",
    "df_london.tail()"
   ]
  },
  {
   "cell_type": "code",
   "execution_count": null,
   "metadata": {},
   "outputs": [],
   "source": [
    "df_london['time'] = pd.to_datetime(df_london['time'])\n",
    "df_london.set_index('time', inplace=True)\n",
    "df_london.isnull().sum()"
   ]
  },
  {
   "cell_type": "code",
   "execution_count": null,
   "metadata": {},
   "outputs": [],
   "source": [
    "df_london.ffill(inplace=True)"
   ]
  },
  {
   "cell_type": "code",
   "execution_count": null,
   "metadata": {},
   "outputs": [],
   "source": [
    "#df_london.to_csv('London_rainfall.csv')"
   ]
  },
  {
   "cell_type": "code",
   "execution_count": null,
   "metadata": {},
   "outputs": [],
   "source": [
    "l_rain_w_tot = df_london[['precipitation']].resample('W').sum()"
   ]
  },
  {
   "cell_type": "code",
   "execution_count": null,
   "metadata": {},
   "outputs": [],
   "source": [
    "l_rain_w_tot.head()"
   ]
  },
  {
   "cell_type": "code",
   "execution_count": null,
   "metadata": {},
   "outputs": [],
   "source": []
  },
  {
   "cell_type": "code",
   "execution_count": null,
   "metadata": {},
   "outputs": [],
   "source": [
    "# Parameters Seattle\n",
    "latitude = 47.6062\n",
    "longitude = -122.3321\n",
    "\n",
    "start_date = '2022-01-01'\n",
    "end_date = '2022-12-31'\n",
    "\n",
    "hourly_variables = ['temperature_2m', 'relativehumidity_2m', 'precipitation']"
   ]
  },
  {
   "cell_type": "code",
   "execution_count": null,
   "metadata": {},
   "outputs": [],
   "source": [
    "base_url = 'https://archive-api.open-meteo.com/v1/archive'\n",
    "params = {\n",
    "        'latitude': latitude,\n",
    "        'longitude': longitude,\n",
    "        'start_date': start_date,\n",
    "        'end_date': end_date,\n",
    "        'hourly': ','.join(hourly_variables),\n",
    "        'timezone': 'Europe/London'\n",
    "}\n",
    "response = requests.get(base_url, params=params)"
   ]
  },
  {
   "cell_type": "code",
   "execution_count": null,
   "metadata": {},
   "outputs": [],
   "source": [
    "if response.status_code == 200:\n",
    "    print('Successful')\n",
    "else:\n",
    "    print('Something went wrong')"
   ]
  },
  {
   "cell_type": "code",
   "execution_count": null,
   "metadata": {},
   "outputs": [],
   "source": [
    "data = response.json()\n",
    "hourly_data = data['hourly']\n",
    "df_seattle = pd.DataFrame(hourly_data)\n",
    "df_seattle.tail()"
   ]
  },
  {
   "cell_type": "code",
   "execution_count": null,
   "metadata": {},
   "outputs": [],
   "source": [
    "df_seattle['time'] = pd.to_datetime(df_seattle['time'])\n",
    "df_seattle.set_index('time', inplace=True)\n",
    "df_seattle.isnull().sum()"
   ]
  },
  {
   "cell_type": "code",
   "execution_count": null,
   "metadata": {},
   "outputs": [],
   "source": [
    "df_seattle.ffill(inplace=True)"
   ]
  },
  {
   "cell_type": "code",
   "execution_count": null,
   "metadata": {},
   "outputs": [],
   "source": [
    "#df_seattle.to_csv('Seattle_rainfall')"
   ]
  },
  {
   "cell_type": "code",
   "execution_count": null,
   "metadata": {},
   "outputs": [],
   "source": [
    "s_rain_w_tot = df_seattle[['precipitation']].resample('W').sum()\n",
    "s_rain_w_tot.head()"
   ]
  },
  {
   "cell_type": "code",
   "execution_count": null,
   "metadata": {},
   "outputs": [],
   "source": [
    "combined_rain = pd.DataFrame({\n",
    "                            'London': l_rain_w_tot['precipitation'],\n",
    "                            'Seattle': s_rain_w_tot['precipitation']\n",
    "})"
   ]
  },
  {
   "cell_type": "code",
   "execution_count": null,
   "metadata": {},
   "outputs": [],
   "source": [
    "combined_rain.head()"
   ]
  },
  {
   "cell_type": "code",
   "execution_count": null,
   "metadata": {},
   "outputs": [],
   "source": [
    "combined_rain.plot(kind='bar', figsize = (14,8))\n",
    "plt.xlabel('Date')\n",
    "plt.ylabel('Precipitation')\n",
    "plt.title('Rainfall comparison of London and Seattle during the year 2022')\n",
    "plt.show();"
   ]
  },
  {
   "cell_type": "code",
   "execution_count": null,
   "metadata": {},
   "outputs": [],
   "source": [
    "# Year aroung total rainfall\n",
    "combined_rain['London'].sum(), combined_rain['Seattle'].sum()"
   ]
  },
  {
   "cell_type": "markdown",
   "metadata": {},
   "source": [
    "The figure shows that Seattle experienced almost twice as rainfall as London. Seattle's winters are much wetter than London’s. This contrast is clear as Seattle frequently exceeds 30 mm weekly in the winter, while London generally stays below that threshold. In summer, both cities see lower precipitation levels, but Seattle experiences a more drastic drop, often near 0 mm in July and August. In summary, Seattle's precipitation is highly seasonal with a pronounced wet winter and dry summer, while London has a steadier, more moderate year-round rainfall pattern."
   ]
  },
  {
   "cell_type": "code",
   "execution_count": null,
   "metadata": {},
   "outputs": [],
   "source": []
  }
 ],
 "metadata": {
  "kernelspec": {
   "display_name": "Python 3 (ipykernel)",
   "language": "python",
   "name": "python3"
  },
  "language_info": {
   "codemirror_mode": {
    "name": "ipython",
    "version": 3
   },
   "file_extension": ".py",
   "mimetype": "text/x-python",
   "name": "python",
   "nbconvert_exporter": "python",
   "pygments_lexer": "ipython3",
   "version": "3.11.9"
  }
 },
 "nbformat": 4,
 "nbformat_minor": 4
}
